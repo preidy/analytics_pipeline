{
 "cells": [
  {
   "cell_type": "code",
   "execution_count": 1,
   "id": "vocational-portland",
   "metadata": {},
   "outputs": [],
   "source": [
    "import pandas as pd"
   ]
  },
  {
   "cell_type": "code",
   "execution_count": 8,
   "id": "varied-zimbabwe",
   "metadata": {},
   "outputs": [],
   "source": [
    "import matplotlib.pyplot as plt"
   ]
  },
  {
   "cell_type": "code",
   "execution_count": 9,
   "id": "further-consortium",
   "metadata": {},
   "outputs": [],
   "source": [
    "%matplotlib inline"
   ]
  },
  {
   "cell_type": "markdown",
   "id": "growing-japan",
   "metadata": {},
   "source": [
    "# 1. Complaints per Week"
   ]
  },
  {
   "cell_type": "code",
   "execution_count": 10,
   "id": "champion-minister",
   "metadata": {},
   "outputs": [],
   "source": [
    "complaints_per_week = pd.read_gbq(\n",
    "    'select * from pat-scratch.analytics_pipeline.m__complaints_per_week'\n",
    ")"
   ]
  },
  {
   "cell_type": "code",
   "execution_count": 12,
   "id": "cleared-consensus",
   "metadata": {},
   "outputs": [
    {
     "data": {
      "text/html": [
       "<div>\n",
       "<style scoped>\n",
       "    .dataframe tbody tr th:only-of-type {\n",
       "        vertical-align: middle;\n",
       "    }\n",
       "\n",
       "    .dataframe tbody tr th {\n",
       "        vertical-align: top;\n",
       "    }\n",
       "\n",
       "    .dataframe thead th {\n",
       "        text-align: right;\n",
       "    }\n",
       "</style>\n",
       "<table border=\"1\" class=\"dataframe\">\n",
       "  <thead>\n",
       "    <tr style=\"text-align: right;\">\n",
       "      <th></th>\n",
       "      <th>complaints_per_week</th>\n",
       "      <th>week</th>\n",
       "    </tr>\n",
       "  </thead>\n",
       "  <tbody>\n",
       "    <tr>\n",
       "      <th>0</th>\n",
       "      <td>31766</td>\n",
       "      <td>2020-12-27 00:00:00+00:00</td>\n",
       "    </tr>\n",
       "    <tr>\n",
       "      <th>1</th>\n",
       "      <td>49977</td>\n",
       "      <td>2020-12-06 00:00:00+00:00</td>\n",
       "    </tr>\n",
       "    <tr>\n",
       "      <th>2</th>\n",
       "      <td>48746</td>\n",
       "      <td>2020-12-13 00:00:00+00:00</td>\n",
       "    </tr>\n",
       "    <tr>\n",
       "      <th>3</th>\n",
       "      <td>39845</td>\n",
       "      <td>2020-12-20 00:00:00+00:00</td>\n",
       "    </tr>\n",
       "    <tr>\n",
       "      <th>4</th>\n",
       "      <td>34772</td>\n",
       "      <td>2020-11-29 00:00:00+00:00</td>\n",
       "    </tr>\n",
       "  </tbody>\n",
       "</table>\n",
       "</div>"
      ],
      "text/plain": [
       "   complaints_per_week                      week\n",
       "0                31766 2020-12-27 00:00:00+00:00\n",
       "1                49977 2020-12-06 00:00:00+00:00\n",
       "2                48746 2020-12-13 00:00:00+00:00\n",
       "3                39845 2020-12-20 00:00:00+00:00\n",
       "4                34772 2020-11-29 00:00:00+00:00"
      ]
     },
     "execution_count": 12,
     "metadata": {},
     "output_type": "execute_result"
    }
   ],
   "source": [
    "complaints_per_week.head()"
   ]
  },
  {
   "cell_type": "code",
   "execution_count": 20,
   "id": "straight-privilege",
   "metadata": {},
   "outputs": [
    {
     "data": {
      "text/plain": [
       "Text(0, 0.5, 'Number of Complaints')"
      ]
     },
     "execution_count": 20,
     "metadata": {},
     "output_type": "execute_result"
    },
    {
     "data": {
      "image/png": "[encoded data removed]",
      "text/plain": [
       "<Figure size 432x288 with 1 Axes>"
      ]
     },
     "metadata": {
      "needs_background": "light"
     },
     "output_type": "display_data"
    }
   ],
   "source": [
    "plt.scatter(\n",
    "    complaints_per_week.week,\n",
    "    complaints_per_week.complaints_per_week\n",
    ")\n",
    "plt.xticks(complaints_per_week.week, rotation=50)\n",
    "plt.ylim((30000, 60000))\n",
    "plt.title('Complaints per Week')\n",
    "plt.ylabel('Number of Complaints')"
   ]
  },
  {
   "cell_type": "markdown",
   "id": "equipped-share",
   "metadata": {},
   "source": [
    "The number of complaints per week in December. The lower number of complaints for the week of 11/29 and 11/27 could be due to the holidays. Alternatively this could be due to those being shortened weeks in our dataset, which spans from 12/1 - 12/31."
   ]
  },
  {
   "cell_type": "code",
   "execution_count": null,
   "id": "western-variable",
   "metadata": {},
   "outputs": [],
   "source": []
  }
 ],
 "metadata": {
  "kernelspec": {
   "display_name": "Python 3",
   "language": "python",
   "name": "python3"
  },
  "language_info": {
   "codemirror_mode": {
    "name": "ipython",
    "version": 3
   },
   "file_extension": ".py",
   "mimetype": "text/x-python",
   "name": "python",
   "nbconvert_exporter": "python",
   "pygments_lexer": "ipython3",
   "version": "3.8.7"
  }
 },
 "nbformat": 4,
 "nbformat_minor": 5
}
